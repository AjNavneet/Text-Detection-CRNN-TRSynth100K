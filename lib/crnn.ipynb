{
 "cells": [
  {
   "cell_type": "code",
   "execution_count": 1,
   "id": "ccb2cf57",
   "metadata": {},
   "outputs": [],
   "source": [
    "# Importing libraries\n",
    "import os\n",
    "import cv2\n",
    "import torch\n",
    "import config\n",
    "import pickle\n",
    "import numpy as np\n",
    "import pandas as pd\n",
    "import torch.nn as nn\n",
    "import albumentations\n",
    "import matplotlib.pyplot as plt\n",
    "\n",
    "from tqdm import tqdm\n",
    "from train import train\n",
    "from source.network import ConvRNN\n",
    "from utils import load_obj, save_obj\n",
    "from source.dataset import TRSynthDataset\n",
    "from sklearn.model_selection import train_test_split\n",
    "\n",
    "%matplotlib inline"
   ]
  },
  {
   "cell_type": "code",
   "execution_count": 4,
   "id": "e3867335",
   "metadata": {},
   "outputs": [],
   "source": [
    "# Get the number of training epochs from the configuration\n",
    "epochs = config.epochs\n",
    "\n",
    "# Get the batch size for training from the configuration\n",
    "batch_size = config.batch_size\n",
    "\n",
    "# Get the file path for saving the trained model from the configuration\n",
    "model_path = config.model_path\n",
    "\n",
    "# Get the file path for the character-to-integer mapping from the configuration\n",
    "char2int_path = config.char2int_path\n",
    "\n",
    "# Get the file path for the integer-to-character mapping from the configuration\n",
    "int2char_path = config.int2char_path\n",
    "\n",
    "# Get the file path for the training data from the configuration\n",
    "data_file_path = config.data_file_path\n",
    "\n",
    "# Get the file path for the image data from the configuration\n",
    "image_path = config.image_path\n",
    "\n",
    "# Get the file path for the label data from the configuration\n",
    "label_path = config.label_path\n"
   ]
  },
  {
   "cell_type": "markdown",
   "id": "247447b6",
   "metadata": {},
   "source": [
    "### Inspect some images"
   ]
  },
  {
   "cell_type": "code",
   "execution_count": 11,
   "id": "92de90d8",
   "metadata": {},
   "outputs": [
    {
     "data": {
      "image/png": "[encoded data removed]",
      "text/plain": [
       "<Figure size 432x288 with 1 Axes>"
      ]
     },
     "metadata": {
      "needs_background": "light"
     },
     "output_type": "display_data"
    }
   ],
   "source": [
    "# Construct the complete file path by joining \"00000017.jpg\" with the directory specified in image_path\n",
    "img = plt.imread(os.path.join(image_path, \"00000017.jpg\"))\n",
    "\n",
    "# Display the loaded image\n",
    "plt.imshow(img)\n",
    "\n",
    "plt.show()\n"
   ]
  },
  {
   "cell_type": "markdown",
   "id": "9228a39f",
   "metadata": {},
   "source": [
    "---"
   ]
  },
  {
   "cell_type": "markdown",
   "id": "1c3248d9",
   "metadata": {},
   "source": [
    "### Check corresponding label"
   ]
  },
  {
   "cell_type": "code",
   "execution_count": 6,
   "id": "1876e18b",
   "metadata": {},
   "outputs": [],
   "source": [
    "# Read data from the text file specified by label_path into a Pandas DataFrame\n",
    "labels = pd.read_table(label_path, header=None)\n"
   ]
  },
  {
   "cell_type": "code",
   "execution_count": 7,
   "id": "97964bf4",
   "metadata": {},
   "outputs": [
    {
     "data": {
      "text/html": [
       "<div>\n",
       "<style scoped>\n",
       "    .dataframe tbody tr th:only-of-type {\n",
       "        vertical-align: middle;\n",
       "    }\n",
       "\n",
       "    .dataframe tbody tr th {\n",
       "        vertical-align: top;\n",
       "    }\n",
       "\n",
       "    .dataframe thead th {\n",
       "        text-align: right;\n",
       "    }\n",
       "</style>\n",
       "<table border=\"1\" class=\"dataframe\">\n",
       "  <thead>\n",
       "    <tr style=\"text-align: right;\">\n",
       "      <th></th>\n",
       "      <th>0</th>\n",
       "    </tr>\n",
       "  </thead>\n",
       "  <tbody>\n",
       "    <tr>\n",
       "      <th>0</th>\n",
       "      <td>life</td>\n",
       "    </tr>\n",
       "    <tr>\n",
       "      <th>1</th>\n",
       "      <td>not</td>\n",
       "    </tr>\n",
       "    <tr>\n",
       "      <th>2</th>\n",
       "      <td>while</td>\n",
       "    </tr>\n",
       "    <tr>\n",
       "      <th>3</th>\n",
       "      <td>know</td>\n",
       "    </tr>\n",
       "    <tr>\n",
       "      <th>4</th>\n",
       "      <td>clearly</td>\n",
       "    </tr>\n",
       "  </tbody>\n",
       "</table>\n",
       "</div>"
      ],
      "text/plain": [
       "         0\n",
       "0     life\n",
       "1      not\n",
       "2    while\n",
       "3     know\n",
       "4  clearly"
      ]
     },
     "execution_count": 7,
     "metadata": {},
     "output_type": "execute_result"
    }
   ],
   "source": [
    "labels.head()"
   ]
  },
  {
   "cell_type": "code",
   "execution_count": 8,
   "id": "f9e03d58",
   "metadata": {},
   "outputs": [
    {
     "data": {
      "text/plain": [
       "'the'"
      ]
     },
     "execution_count": 8,
     "metadata": {},
     "output_type": "execute_result"
    }
   ],
   "source": [
    "# Access the value at the 17th row (index 17) and the first column (index 0) in the 'labels' DataFrame\n",
    "value = labels.iloc[17, 0]\n"
   ]
  },
  {
   "cell_type": "code",
   "execution_count": 9,
   "id": "5be877db",
   "metadata": {},
   "outputs": [
    {
     "data": {
      "text/plain": [
       "(100000, 1)"
      ]
     },
     "execution_count": 9,
     "metadata": {},
     "output_type": "execute_result"
    }
   ],
   "source": [
    "labels.shape"
   ]
  },
  {
   "cell_type": "markdown",
   "id": "5b7c221e",
   "metadata": {},
   "source": [
    "---"
   ]
  },
  {
   "cell_type": "markdown",
   "id": "d521520e",
   "metadata": {},
   "source": [
    "### Total number of images"
   ]
  },
  {
   "cell_type": "code",
   "execution_count": 10,
   "id": "39bf6539",
   "metadata": {},
   "outputs": [
    {
     "data": {
      "text/plain": [
       "100000"
      ]
     },
     "execution_count": 10,
     "metadata": {},
     "output_type": "execute_result"
    }
   ],
   "source": [
    "# Get the number of files in the directory specified by 'image_path'\n",
    "len(os.listdir(image_path))\n"
   ]
  },
  {
   "cell_type": "markdown",
   "id": "3d634824",
   "metadata": {},
   "source": [
    "### Find null values in labels"
   ]
  },
  {
   "cell_type": "code",
   "execution_count": 12,
   "id": "57111851",
   "metadata": {},
   "outputs": [
    {
     "data": {
      "text/plain": [
       "0    2\n",
       "dtype: int64"
      ]
     },
     "execution_count": 12,
     "metadata": {},
     "output_type": "execute_result"
    }
   ],
   "source": [
    "# Checking null values\n",
    "labels.isna().sum()"
   ]
  },
  {
   "cell_type": "code",
   "execution_count": 13,
   "id": "37b4a17c",
   "metadata": {},
   "outputs": [
    {
     "data": {
      "text/html": [
       "<div>\n",
       "<style scoped>\n",
       "    .dataframe tbody tr th:only-of-type {\n",
       "        vertical-align: middle;\n",
       "    }\n",
       "\n",
       "    .dataframe tbody tr th {\n",
       "        vertical-align: top;\n",
       "    }\n",
       "\n",
       "    .dataframe thead th {\n",
       "        text-align: right;\n",
       "    }\n",
       "</style>\n",
       "<table border=\"1\" class=\"dataframe\">\n",
       "  <thead>\n",
       "    <tr style=\"text-align: right;\">\n",
       "      <th></th>\n",
       "      <th>0</th>\n",
       "    </tr>\n",
       "  </thead>\n",
       "  <tbody>\n",
       "    <tr>\n",
       "      <th>19198</th>\n",
       "      <td>NaN</td>\n",
       "    </tr>\n",
       "    <tr>\n",
       "      <th>74347</th>\n",
       "      <td>NaN</td>\n",
       "    </tr>\n",
       "  </tbody>\n",
       "</table>\n",
       "</div>"
      ],
      "text/plain": [
       "         0\n",
       "19198  NaN\n",
       "74347  NaN"
      ]
     },
     "execution_count": 13,
     "metadata": {},
     "output_type": "execute_result"
    }
   ],
   "source": [
    "# Select rows in the 'labels' DataFrame where the value in the first column (column 0) is NaN (missing)\n",
    "labels[labels[0].isna()]\n"
   ]
  },
  {
   "cell_type": "markdown",
   "id": "e75d342f",
   "metadata": {},
   "source": [
    "---"
   ]
  },
  {
   "cell_type": "markdown",
   "id": "1bb89f7b",
   "metadata": {},
   "source": [
    "### Let's check those images"
   ]
  },
  {
   "cell_type": "code",
   "execution_count": 14,
   "id": "fa7213b1",
   "metadata": {},
   "outputs": [
    {
     "data": {
      "image/png": "[encoded data removed]",
      "text/plain": [
       "<Figure size 432x288 with 1 Axes>"
      ]
     },
     "metadata": {
      "needs_background": "light"
     },
     "output_type": "display_data"
    }
   ],
   "source": [
    "# Load and display the image \"00019198.jpg\" located in the directory\n",
    "img = plt.imread(os.path.join(image_path, \"00019198.jpg\"))\n",
    "\n",
    "# Display the loaded image\n",
    "plt.imshow(img)\n",
    "\n",
    "plt.show()\n"
   ]
  },
  {
   "cell_type": "code",
   "execution_count": 15,
   "id": "3db4749e",
   "metadata": {},
   "outputs": [
    {
     "data": {
      "image/png": "[encoded data removed]",
      "text/plain": [
       "<Figure size 432x288 with 1 Axes>"
      ]
     },
     "metadata": {
      "needs_background": "light"
     },
     "output_type": "display_data"
    }
   ],
   "source": [
    "# Load the image \"00074347.jpg\" located in 'image_path'\n",
    "img = plt.imread(os.path.join(image_path, \"00074347.jpg\"))\n",
    "\n",
    "# Display the loaded image\n",
    "plt.imshow(img)\n",
    "\n",
    "plt.show()\n"
   ]
  },
  {
   "cell_type": "markdown",
   "id": "6a62f0de",
   "metadata": {},
   "source": [
    "---"
   ]
  },
  {
   "cell_type": "markdown",
   "id": "456aee06",
   "metadata": {},
   "source": [
    "### Replace those missing values with the string \"null\""
   ]
  },
  {
   "cell_type": "code",
   "execution_count": 16,
   "id": "92b25504",
   "metadata": {},
   "outputs": [],
   "source": [
    "labels.fillna(\"null\", inplace=True)"
   ]
  },
  {
   "cell_type": "markdown",
   "id": "f803d736",
   "metadata": {},
   "source": [
    "### Create a dataframe with image paths and corresponding labels"
   ]
  },
  {
   "cell_type": "code",
   "execution_count": 18,
   "id": "421115fd",
   "metadata": {},
   "outputs": [],
   "source": [
    "# List files in the 'image_path' directory\n",
    "image_files = os.listdir(image_path)\n",
    "\n",
    "# Sort the list of image file names alphabetically\n",
    "image_files.sort()\n",
    "\n",
    "# Create a list of full file paths by joining 'image_path' and each file name\n",
    "image_files = [os.path.join(image_path, i) for i in image_files]\n"
   ]
  },
  {
   "cell_type": "code",
   "execution_count": 19,
   "id": "05084f69",
   "metadata": {},
   "outputs": [],
   "source": [
    "# Create a DataFrame with 'images' and 'labels' columns\n",
    "data_file = pd.DataFrame({\"images\": image_files, \"labels\": labels[0]})\n",
    "\n",
    "# Save the DataFrame to a CSV file at 'data_file_path'\n",
    "data_file.to_csv(data_file_path, index=False)\n"
   ]
  },
  {
   "cell_type": "code",
   "execution_count": 20,
   "id": "12aa0fbe",
   "metadata": {},
   "outputs": [
    {
     "data": {
      "text/html": [
       "<div>\n",
       "<style scoped>\n",
       "    .dataframe tbody tr th:only-of-type {\n",
       "        vertical-align: middle;\n",
       "    }\n",
       "\n",
       "    .dataframe tbody tr th {\n",
       "        vertical-align: top;\n",
       "    }\n",
       "\n",
       "    .dataframe thead th {\n",
       "        text-align: right;\n",
       "    }\n",
       "</style>\n",
       "<table border=\"1\" class=\"dataframe\">\n",
       "  <thead>\n",
       "    <tr style=\"text-align: right;\">\n",
       "      <th></th>\n",
       "      <th>images</th>\n",
       "      <th>labels</th>\n",
       "    </tr>\n",
       "  </thead>\n",
       "  <tbody>\n",
       "    <tr>\n",
       "      <th>0</th>\n",
       "      <td>data/TRSynth100K/images/00000000.jpg</td>\n",
       "      <td>life</td>\n",
       "    </tr>\n",
       "    <tr>\n",
       "      <th>1</th>\n",
       "      <td>data/TRSynth100K/images/00000001.jpg</td>\n",
       "      <td>not</td>\n",
       "    </tr>\n",
       "    <tr>\n",
       "      <th>2</th>\n",
       "      <td>data/TRSynth100K/images/00000002.jpg</td>\n",
       "      <td>while</td>\n",
       "    </tr>\n",
       "    <tr>\n",
       "      <th>3</th>\n",
       "      <td>data/TRSynth100K/images/00000003.jpg</td>\n",
       "      <td>know</td>\n",
       "    </tr>\n",
       "    <tr>\n",
       "      <th>4</th>\n",
       "      <td>data/TRSynth100K/images/00000004.jpg</td>\n",
       "      <td>clearly</td>\n",
       "    </tr>\n",
       "  </tbody>\n",
       "</table>\n",
       "</div>"
      ],
      "text/plain": [
       "                                 images   labels\n",
       "0  data/TRSynth100K/images/00000000.jpg     life\n",
       "1  data/TRSynth100K/images/00000001.jpg      not\n",
       "2  data/TRSynth100K/images/00000002.jpg    while\n",
       "3  data/TRSynth100K/images/00000003.jpg     know\n",
       "4  data/TRSynth100K/images/00000004.jpg  clearly"
      ]
     },
     "execution_count": 20,
     "metadata": {},
     "output_type": "execute_result"
    }
   ],
   "source": [
    "data_file.head()"
   ]
  },
  {
   "cell_type": "code",
   "execution_count": 21,
   "id": "82001d0f",
   "metadata": {},
   "outputs": [
    {
     "data": {
      "image/png": "[encoded data removed]",
      "text/plain": [
       "<Figure size 432x288 with 1 Axes>"
      ]
     },
     "metadata": {
      "needs_background": "light"
     },
     "output_type": "display_data"
    }
   ],
   "source": [
    "# Load the image \"00000004.jpg\" located in 'image_path'\n",
    "img = plt.imread(os.path.join(image_path, \"00000004.jpg\"))\n",
    "\n",
    "# Display the loaded image\n",
    "plt.imshow(img)\n",
    "\n",
    "plt.show()\n"
   ]
  },
  {
   "cell_type": "markdown",
   "id": "78df9461",
   "metadata": {},
   "source": [
    "---"
   ]
  },
  {
   "cell_type": "markdown",
   "id": "37810f1c",
   "metadata": {},
   "source": [
    "### Find the unique characters in the labels"
   ]
  },
  {
   "cell_type": "code",
   "execution_count": 22,
   "id": "af2e7711",
   "metadata": {},
   "outputs": [],
   "source": [
    "# Create a set of unique characters from the labels in the first column of 'labels' DataFrame\n",
    "unique_chars = list({l for word in labels[0] for l in word})\n",
    "\n",
    "# Sort the list of unique characters alphabetically\n",
    "unique_chars.sort()\n"
   ]
  },
  {
   "cell_type": "code",
   "execution_count": 23,
   "id": "6509d39f",
   "metadata": {},
   "outputs": [
    {
     "data": {
      "text/plain": [
       "['#',\n",
       " '$',\n",
       " '%',\n",
       " '&',\n",
       " \"'\",\n",
       " '(',\n",
       " ')',\n",
       " '*',\n",
       " '+',\n",
       " ',',\n",
       " '-',\n",
       " '.',\n",
       " '/',\n",
       " '0',\n",
       " '1',\n",
       " '2',\n",
       " '3',\n",
       " '4',\n",
       " '5',\n",
       " '6',\n",
       " '7',\n",
       " '8',\n",
       " '9',\n",
       " ':',\n",
       " ';',\n",
       " '<',\n",
       " '=',\n",
       " '>',\n",
       " '@',\n",
       " 'A',\n",
       " 'B',\n",
       " 'C',\n",
       " 'D',\n",
       " 'E',\n",
       " 'F',\n",
       " 'G',\n",
       " 'H',\n",
       " 'I',\n",
       " 'J',\n",
       " 'K',\n",
       " 'L',\n",
       " 'M',\n",
       " 'N',\n",
       " 'O',\n",
       " 'P',\n",
       " 'Q',\n",
       " 'R',\n",
       " 'S',\n",
       " 'T',\n",
       " 'U',\n",
       " 'V',\n",
       " 'W',\n",
       " 'X',\n",
       " 'Y',\n",
       " 'Z',\n",
       " 'a',\n",
       " 'b',\n",
       " 'c',\n",
       " 'd',\n",
       " 'e',\n",
       " 'f',\n",
       " 'g',\n",
       " 'h',\n",
       " 'i',\n",
       " 'j',\n",
       " 'k',\n",
       " 'l',\n",
       " 'm',\n",
       " 'n',\n",
       " 'o',\n",
       " 'p',\n",
       " 'q',\n",
       " 'r',\n",
       " 's',\n",
       " 't',\n",
       " 'u',\n",
       " 'v',\n",
       " 'w',\n",
       " 'x',\n",
       " 'y',\n",
       " 'z']"
      ]
     },
     "execution_count": 23,
     "metadata": {},
     "output_type": "execute_result"
    }
   ],
   "source": [
    "unique_chars"
   ]
  },
  {
   "cell_type": "code",
   "execution_count": 24,
   "id": "5772c151",
   "metadata": {},
   "outputs": [
    {
     "data": {
      "text/plain": [
       "81"
      ]
     },
     "execution_count": 24,
     "metadata": {},
     "output_type": "execute_result"
    }
   ],
   "source": [
    "len(unique_chars)"
   ]
  },
  {
   "cell_type": "markdown",
   "id": "0c3751cc",
   "metadata": {},
   "source": [
    "---"
   ]
  },
  {
   "cell_type": "markdown",
   "id": "9402fd67",
   "metadata": {},
   "source": [
    "### Create mapping from characters to integer and integer to character and save them to disc"
   ]
  },
  {
   "cell_type": "code",
   "execution_count": 25,
   "id": "e07f1ef6",
   "metadata": {},
   "outputs": [],
   "source": [
    "# Create a character-to-integer mapping using unique characters and their corresponding indices\n",
    "char2int = {a: i+1 for i, a in enumerate(unique_chars)}\n",
    "\n",
    "# Create an integer-to-character mapping using unique characters and their corresponding indices\n",
    "int2char = {i+1: a for i, a in enumerate(unique_chars)}\n"
   ]
  },
  {
   "cell_type": "code",
   "execution_count": 26,
   "id": "b2a00f70",
   "metadata": {},
   "outputs": [],
   "source": [
    "save_obj(char2int, char2int_path)\n",
    "save_obj(int2char, int2char_path)"
   ]
  },
  {
   "cell_type": "markdown",
   "id": "c8dbef51",
   "metadata": {},
   "source": [
    "---"
   ]
  },
  {
   "cell_type": "markdown",
   "id": "b075cfc5",
   "metadata": {},
   "source": [
    "# Training the model"
   ]
  },
  {
   "cell_type": "code",
   "execution_count": 27,
   "id": "6a52b397",
   "metadata": {},
   "outputs": [],
   "source": [
    "# Use GPU (\"cuda:0\") if available; otherwise, use CPU\n",
    "device = torch.device(\"cuda:0\" if torch.cuda.is_available() else \"cpu\")"
   ]
  },
  {
   "cell_type": "markdown",
   "id": "156ae772",
   "metadata": {},
   "source": [
    "### Split the data into train and validation"
   ]
  },
  {
   "cell_type": "code",
   "execution_count": 28,
   "id": "c26d50b5",
   "metadata": {},
   "outputs": [],
   "source": [
    "# Split the 'data_file' DataFrame into training and validation sets\n",
    "train_file, valid_file = train_test_split(data_file, test_size=0.2)\n"
   ]
  },
  {
   "cell_type": "markdown",
   "id": "9ee43e0d",
   "metadata": {},
   "source": [
    "### Create train and validation datasets"
   ]
  },
  {
   "cell_type": "code",
   "execution_count": 29,
   "id": "3ba8ead3",
   "metadata": {},
   "outputs": [],
   "source": [
    "# Create training and validation datasets using 'train_file' and 'valid_file' with character-to-integer mapping 'char2int'\n",
    "train_dataset = TRSynthDataset(train_file, char2int)\n",
    "valid_dataset = TRSynthDataset(valid_file, char2int)\n"
   ]
  },
  {
   "cell_type": "markdown",
   "id": "b8108f10",
   "metadata": {},
   "source": [
    "### Define the loss function"
   ]
  },
  {
   "cell_type": "code",
   "execution_count": 30,
   "id": "c83ac4ab",
   "metadata": {},
   "outputs": [
    {
     "data": {
      "text/plain": [
       "CTCLoss()"
      ]
     },
     "execution_count": 30,
     "metadata": {},
     "output_type": "execute_result"
    }
   ],
   "source": [
    "# Define the CTC loss criterion with sum reduction and move it to the specified device\n",
    "criterion = nn.CTCLoss(reduction=\"sum\")\n",
    "criterion.to(device)\n"
   ]
  },
  {
   "cell_type": "markdown",
   "id": "ecb45c4e",
   "metadata": {},
   "source": [
    "### Number of classes"
   ]
  },
  {
   "cell_type": "code",
   "execution_count": 31,
   "id": "1f61b662",
   "metadata": {},
   "outputs": [],
   "source": [
    "n_classes = len(char2int)"
   ]
  },
  {
   "cell_type": "markdown",
   "id": "eac16d69",
   "metadata": {},
   "source": [
    "### Create the model object"
   ]
  },
  {
   "cell_type": "code",
   "execution_count": 32,
   "id": "09ce3f6c",
   "metadata": {},
   "outputs": [
    {
     "data": {
      "text/plain": [
       "ConvRNN(\n",
       "  (relu): LeakyReLU(negative_slope=0.2, inplace=True)\n",
       "  (conv_1): Conv2d(3, 64, kernel_size=(3, 3), stride=(1, 1), padding=(1, 1))\n",
       "  (bn_1): BatchNorm2d(64, eps=1e-05, momentum=0.1, affine=True, track_running_stats=True)\n",
       "  (pool_1): MaxPool2d(kernel_size=(2, 2), stride=(2, 2), padding=0, dilation=1, ceil_mode=False)\n",
       "  (conv_2): Conv2d(64, 128, kernel_size=(3, 3), stride=(1, 1), padding=(1, 1))\n",
       "  (bn_2): BatchNorm2d(128, eps=1e-05, momentum=0.1, affine=True, track_running_stats=True)\n",
       "  (pool_2): MaxPool2d(kernel_size=(2, 2), stride=(2, 2), padding=0, dilation=1, ceil_mode=False)\n",
       "  (conv_3): Conv2d(128, 256, kernel_size=(3, 3), stride=(1, 1), padding=(1, 1))\n",
       "  (bn_3): BatchNorm2d(256, eps=1e-05, momentum=0.1, affine=True, track_running_stats=True)\n",
       "  (conv_4): Conv2d(256, 256, kernel_size=(3, 3), stride=(1, 1), padding=(1, 1))\n",
       "  (bn_4): BatchNorm2d(256, eps=1e-05, momentum=0.1, affine=True, track_running_stats=True)\n",
       "  (pool_4): MaxPool2d(kernel_size=(2, 1), stride=(2, 1), padding=0, dilation=1, ceil_mode=False)\n",
       "  (conv_5): Conv2d(256, 512, kernel_size=(3, 3), stride=(1, 1), padding=(1, 1))\n",
       "  (bn_5): BatchNorm2d(512, eps=1e-05, momentum=0.1, affine=True, track_running_stats=True)\n",
       "  (conv_6): Conv2d(512, 512, kernel_size=(3, 3), stride=(1, 1), padding=(1, 1))\n",
       "  (bn_6): BatchNorm2d(512, eps=1e-05, momentum=0.1, affine=True, track_running_stats=True)\n",
       "  (pool_6): MaxPool2d(kernel_size=(2, 1), stride=(2, 1), padding=0, dilation=1, ceil_mode=False)\n",
       "  (conv_7): Conv2d(512, 512, kernel_size=(3, 3), stride=(1, 1), padding=(1, 1))\n",
       "  (bn_7): BatchNorm2d(512, eps=1e-05, momentum=0.1, affine=True, track_running_stats=True)\n",
       "  (linear_1): Linear(in_features=1024, out_features=64, bias=True)\n",
       "  (linear_2): Linear(in_features=64, out_features=64, bias=True)\n",
       "  (rnn_1): GRU(64, 128, num_layers=2, batch_first=True, dropout=0.25, bidirectional=True)\n",
       "  (rnn_2): GRU(256, 64, num_layers=2, batch_first=True, dropout=0.25, bidirectional=True)\n",
       "  (dense): Linear(in_features=128, out_features=82, bias=True)\n",
       ")"
      ]
     },
     "execution_count": 32,
     "metadata": {},
     "output_type": "execute_result"
    }
   ],
   "source": [
    "# Create a ConvRNN model with 'n_classes' output classes and move it to the specified device\n",
    "model = ConvRNN(n_classes)\n",
    "model.to(device)\n"
   ]
  },
  {
   "cell_type": "markdown",
   "id": "8982b598",
   "metadata": {},
   "source": [
    "---"
   ]
  },
  {
   "cell_type": "markdown",
   "id": "699d3728",
   "metadata": {},
   "source": [
    "### Define Optimizer"
   ]
  },
  {
   "cell_type": "code",
   "execution_count": 33,
   "id": "b9451856",
   "metadata": {},
   "outputs": [],
   "source": [
    "# Define an RMSprop optimizer for the 'model' with a learning rate of 0.0005\n",
    "optimizer = torch.optim.RMSprop(model.parameters(), lr=0.0005)\n"
   ]
  },
  {
   "cell_type": "markdown",
   "id": "e36dd6f8",
   "metadata": {},
   "source": [
    "### Define train and validation data loaders"
   ]
  },
  {
   "cell_type": "code",
   "execution_count": 34,
   "id": "a33069a7",
   "metadata": {},
   "outputs": [],
   "source": [
    "# Create data loaders for training and validation using the specified datasets\n",
    "train_loader = torch.utils.data.DataLoader(train_dataset, batch_size=batch_size, shuffle=True, drop_last=True)\n",
    "valid_loader = torch.utils.data.DataLoader(valid_dataset, batch_size=batch_size, shuffle=False, drop_last=False)\n"
   ]
  },
  {
   "cell_type": "markdown",
   "id": "5925163b",
   "metadata": {},
   "source": [
    "### Training loop"
   ]
  },
  {
   "cell_type": "code",
   "execution_count": null,
   "id": "ec635427",
   "metadata": {},
   "outputs": [],
   "source": [
    "# Iterate through the specified number of epochs\n",
    "for i in range(epochs):\n",
    "    print(f\"Epoch {i+1} of {epochs}...\")\n",
    "    \n",
    "    # Run the training function and calculate the training loss\n",
    "    train_loss = train(model, train_loader, criterion, device, optimizer, test=False)\n",
    "    \n",
    "    # Run the validation function and calculate the validation loss\n",
    "    valid_loss = train(model, valid_loader, criterion, device, test=True)\n",
    "    \n",
    "    # Print the training and validation loss\n",
    "    print(f\"Train Loss: {round(train_loss, 4)}, Valid Loss: {round(valid_loss, 4)}\")\n",
    "    \n",
    "    # Check if the validation loss is better than the best seen so far\n",
    "    if valid_loss < best_loss:\n",
    "        print(\"Validation Loss improved, saving Model File...\")\n",
    "        \n",
    "        # Save the model's state to a file\n",
    "        torch.save(model.state_dict(), model_path)\n",
    "        best_loss = valid_loss\n"
   ]
  },
  {
   "cell_type": "markdown",
   "id": "76a3aae6",
   "metadata": {},
   "source": [
    "### Load the trained model"
   ]
  },
  {
   "cell_type": "code",
   "execution_count": 48,
   "id": "d2661734",
   "metadata": {},
   "outputs": [
    {
     "data": {
      "text/plain": [
       "ConvRNN(\n",
       "  (relu): LeakyReLU(negative_slope=0.2, inplace=True)\n",
       "  (conv_1): Conv2d(3, 64, kernel_size=(3, 3), stride=(1, 1), padding=(1, 1))\n",
       "  (bn_1): BatchNorm2d(64, eps=1e-05, momentum=0.1, affine=True, track_running_stats=True)\n",
       "  (pool_1): MaxPool2d(kernel_size=(2, 2), stride=(2, 2), padding=0, dilation=1, ceil_mode=False)\n",
       "  (conv_2): Conv2d(64, 128, kernel_size=(3, 3), stride=(1, 1), padding=(1, 1))\n",
       "  (bn_2): BatchNorm2d(128, eps=1e-05, momentum=0.1, affine=True, track_running_stats=True)\n",
       "  (pool_2): MaxPool2d(kernel_size=(2, 2), stride=(2, 2), padding=0, dilation=1, ceil_mode=False)\n",
       "  (conv_3): Conv2d(128, 256, kernel_size=(3, 3), stride=(1, 1), padding=(1, 1))\n",
       "  (bn_3): BatchNorm2d(256, eps=1e-05, momentum=0.1, affine=True, track_running_stats=True)\n",
       "  (conv_4): Conv2d(256, 256, kernel_size=(3, 3), stride=(1, 1), padding=(1, 1))\n",
       "  (bn_4): BatchNorm2d(256, eps=1e-05, momentum=0.1, affine=True, track_running_stats=True)\n",
       "  (pool_4): MaxPool2d(kernel_size=(2, 1), stride=(2, 1), padding=0, dilation=1, ceil_mode=False)\n",
       "  (conv_5): Conv2d(256, 512, kernel_size=(3, 3), stride=(1, 1), padding=(1, 1))\n",
       "  (bn_5): BatchNorm2d(512, eps=1e-05, momentum=0.1, affine=True, track_running_stats=True)\n",
       "  (conv_6): Conv2d(512, 512, kernel_size=(3, 3), stride=(1, 1), padding=(1, 1))\n",
       "  (bn_6): BatchNorm2d(512, eps=1e-05, momentum=0.1, affine=True, track_running_stats=True)\n",
       "  (pool_6): MaxPool2d(kernel_size=(2, 1), stride=(2, 1), padding=0, dilation=1, ceil_mode=False)\n",
       "  (conv_7): Conv2d(512, 512, kernel_size=(3, 3), stride=(1, 1), padding=(1, 1))\n",
       "  (bn_7): BatchNorm2d(512, eps=1e-05, momentum=0.1, affine=True, track_running_stats=True)\n",
       "  (linear_1): Linear(in_features=1024, out_features=64, bias=True)\n",
       "  (linear_2): Linear(in_features=64, out_features=64, bias=True)\n",
       "  (rnn_1): GRU(64, 128, num_layers=2, batch_first=True, dropout=0.25, bidirectional=True)\n",
       "  (rnn_2): GRU(256, 64, num_layers=2, batch_first=True, dropout=0.25, bidirectional=True)\n",
       "  (dense): Linear(in_features=128, out_features=82, bias=True)\n",
       ")"
      ]
     },
     "execution_count": 48,
     "metadata": {},
     "output_type": "execute_result"
    }
   ],
   "source": [
    "# Create a ConvRNN model\n",
    "model = ConvRNN(n_classes)\n",
    "\n",
    "# Load the model's state from the saved model file located at 'model_path'\n",
    "model.load_state_dict(torch.load(model_path, map_location=torch.device('cpu')))\n",
    "\n",
    "# Set the model's mode to evaluation\n",
    "model.eval()\n"
   ]
  },
  {
   "cell_type": "markdown",
   "id": "4e420973",
   "metadata": {},
   "source": [
    "---"
   ]
  },
  {
   "cell_type": "markdown",
   "id": "919b7c24",
   "metadata": {},
   "source": [
    "# Prediction"
   ]
  },
  {
   "cell_type": "markdown",
   "id": "472aca06",
   "metadata": {},
   "source": [
    "### Pick a test image"
   ]
  },
  {
   "cell_type": "code",
   "execution_count": 60,
   "id": "d222e9ba",
   "metadata": {},
   "outputs": [],
   "source": [
    "test_img = os.path.join(image_path, \"00000017.jpg\")\n",
    "img = cv2.imread(test_img)"
   ]
  },
  {
   "cell_type": "code",
   "execution_count": 65,
   "id": "763f6de1",
   "metadata": {},
   "outputs": [
    {
     "data": {
      "image/png": "[encoded data removed]",
      "text/plain": [
       "<Figure size 432x288 with 1 Axes>"
      ]
     },
     "metadata": {
      "needs_background": "light"
     },
     "output_type": "display_data"
    }
   ],
   "source": [
    "plt.imshow(plt.imread(test_img))\n",
    "plt.show()"
   ]
  },
  {
   "cell_type": "markdown",
   "id": "23988bb9",
   "metadata": {},
   "source": [
    "### Apply augmentations"
   ]
  },
  {
   "cell_type": "code",
   "execution_count": 43,
   "id": "2d8201cd",
   "metadata": {},
   "outputs": [],
   "source": [
    "# Define the mean and standard deviation for image normalization\n",
    "mean = (0.485, 0.456, 0.406)\n",
    "std = (0.229, 0.224, 0.225)\n",
    "\n",
    "# Create an image augmentation pipeline to normalize the image\n",
    "img_aug = albumentations.Compose([albumentations.Normalize(mean, std, max_pixel_value=255.0, always_apply=True)])\n",
    "\n",
    "# Apply the image augmentation to 'img'\n",
    "augmented = img_aug(image=img)\n",
    "img = augmented[\"image\"]\n",
    "\n",
    "# Transpose the image dimensions for compatibility with PyTorch\n",
    "img = img.transpose(2, 0, 1)\n",
    "\n",
    "# Convert the image to a PyTorch tensor\n",
    "img = torch.from_numpy(img)\n",
    "\n",
    "# Add a batch dimension to create a batch of a single image\n",
    "img = torch.unsqueeze(img, 0)\n",
    "\n",
    "# Move the image tensor to the specified device (e.g., GPU if available)\n",
    "img = img.to(device)\n"
   ]
  },
  {
   "cell_type": "markdown",
   "id": "14686e1f",
   "metadata": {},
   "source": [
    "### Take model output"
   ]
  },
  {
   "cell_type": "code",
   "execution_count": 49,
   "id": "35427453",
   "metadata": {},
   "outputs": [
    {
     "name": "stderr",
     "output_type": "stream",
     "text": [
      "/opt/anaconda3/envs/ppro/lib/python3.8/site-packages/torch/nn/functional.py:718: UserWarning: Named tensors and all their associated APIs are an experimental feature and subject to change. Please do not use them for anything important until they are released as stable. (Triggered internally at  /Users/distiller/project/conda/conda-bld/pytorch_1623459044803/work/c10/core/TensorImpl.h:1156.)\n",
      "  return torch.max_pool2d(input, kernel_size, stride, padding, dilation, ceil_mode)\n"
     ]
    }
   ],
   "source": [
    "# Pass the image 'img' through the 'model' to obtain an output prediction\n",
    "out = model(img)\n"
   ]
  },
  {
   "cell_type": "markdown",
   "id": "00442712",
   "metadata": {},
   "source": [
    "---"
   ]
  },
  {
   "cell_type": "markdown",
   "id": "6f137d97",
   "metadata": {},
   "source": [
    "### Apply softmax and take label predictions"
   ]
  },
  {
   "cell_type": "code",
   "execution_count": 50,
   "id": "0b3fd42f",
   "metadata": {},
   "outputs": [],
   "source": [
    "# Remove the batch dimension to get a single output\n",
    "out = torch.squeeze(out, 0)\n",
    "\n",
    "# Apply softmax to the output to get class probabilities\n",
    "out = out.softmax(1)\n",
    "\n",
    "# Get the predicted class label by selecting the index with the highest probability\n",
    "pred = torch.argmax(out, 1)\n"
   ]
  },
  {
   "cell_type": "code",
   "execution_count": 51,
   "id": "fbb549d0",
   "metadata": {},
   "outputs": [
    {
     "data": {
      "text/plain": [
       "torch.Size([40])"
      ]
     },
     "execution_count": 51,
     "metadata": {},
     "output_type": "execute_result"
    }
   ],
   "source": [
    "pred.shape"
   ]
  },
  {
   "cell_type": "code",
   "execution_count": 52,
   "id": "0cf2c4d4",
   "metadata": {},
   "outputs": [],
   "source": [
    "pred = pred.tolist()"
   ]
  },
  {
   "cell_type": "code",
   "execution_count": 53,
   "id": "ae45a1d4",
   "metadata": {},
   "outputs": [
    {
     "data": {
      "text/plain": [
       "[0,\n",
       " 0,\n",
       " 0,\n",
       " 0,\n",
       " 0,\n",
       " 0,\n",
       " 0,\n",
       " 0,\n",
       " 0,\n",
       " 0,\n",
       " 0,\n",
       " 0,\n",
       " 75,\n",
       " 0,\n",
       " 0,\n",
       " 63,\n",
       " 0,\n",
       " 0,\n",
       " 0,\n",
       " 60,\n",
       " 0,\n",
       " 0,\n",
       " 0,\n",
       " 0,\n",
       " 0,\n",
       " 0,\n",
       " 0,\n",
       " 0,\n",
       " 0,\n",
       " 0,\n",
       " 0,\n",
       " 0,\n",
       " 0,\n",
       " 0,\n",
       " 0,\n",
       " 0,\n",
       " 0,\n",
       " 0,\n",
       " 0,\n",
       " 0]"
      ]
     },
     "execution_count": 53,
     "metadata": {},
     "output_type": "execute_result"
    }
   ],
   "source": [
    "pred"
   ]
  },
  {
   "cell_type": "code",
   "execution_count": 54,
   "id": "97b8571e",
   "metadata": {},
   "outputs": [
    {
     "data": {
      "text/plain": [
       "'t'"
      ]
     },
     "execution_count": 54,
     "metadata": {},
     "output_type": "execute_result"
    }
   ],
   "source": [
    "int2char[75]"
   ]
  },
  {
   "cell_type": "markdown",
   "id": "7256b419",
   "metadata": {},
   "source": [
    "### Use 'ph' for special character"
   ]
  },
  {
   "cell_type": "code",
   "execution_count": 55,
   "id": "edc4033e",
   "metadata": {},
   "outputs": [],
   "source": [
    "int2char[0] = \"ph\""
   ]
  },
  {
   "cell_type": "markdown",
   "id": "97aa70ad",
   "metadata": {},
   "source": [
    "### Convert integer predictions to string"
   ]
  },
  {
   "cell_type": "code",
   "execution_count": 57,
   "id": "f3aa5192",
   "metadata": {},
   "outputs": [],
   "source": [
    "# Convert the predicted class indices 'pred' into corresponding characters using 'int2char'\n",
    "out = [int2char[i] for i in pred]\n"
   ]
  },
  {
   "cell_type": "code",
   "execution_count": 58,
   "id": "aa5cca0b",
   "metadata": {},
   "outputs": [
    {
     "data": {
      "text/plain": [
       "['ph',\n",
       " 'ph',\n",
       " 'ph',\n",
       " 'ph',\n",
       " 'ph',\n",
       " 'ph',\n",
       " 'ph',\n",
       " 'ph',\n",
       " 'ph',\n",
       " 'ph',\n",
       " 'ph',\n",
       " 'ph',\n",
       " 't',\n",
       " 'ph',\n",
       " 'ph',\n",
       " 'h',\n",
       " 'ph',\n",
       " 'ph',\n",
       " 'ph',\n",
       " 'e',\n",
       " 'ph',\n",
       " 'ph',\n",
       " 'ph',\n",
       " 'ph',\n",
       " 'ph',\n",
       " 'ph',\n",
       " 'ph',\n",
       " 'ph',\n",
       " 'ph',\n",
       " 'ph',\n",
       " 'ph',\n",
       " 'ph',\n",
       " 'ph',\n",
       " 'ph',\n",
       " 'ph',\n",
       " 'ph',\n",
       " 'ph',\n",
       " 'ph',\n",
       " 'ph',\n",
       " 'ph']"
      ]
     },
     "execution_count": 58,
     "metadata": {},
     "output_type": "execute_result"
    }
   ],
   "source": [
    "out"
   ]
  },
  {
   "cell_type": "markdown",
   "id": "1c116074",
   "metadata": {},
   "source": [
    "### Collapse the output"
   ]
  },
  {
   "cell_type": "code",
   "execution_count": 66,
   "id": "7c443674",
   "metadata": {},
   "outputs": [],
   "source": [
    "# Initialize a result list and add the first character from 'out'\n",
    "res = list()\n",
    "res.append(out[0])\n",
    "\n",
    "# Iterate through 'out' to remove consecutive duplicate characters and exclude \"ph\" characters\n",
    "for i in range(1, len(out)):\n",
    "    if out[i] != out[i - 1]:\n",
    "        res.append(out[i])\n",
    "\n",
    "# Filter out \"ph\" characters from the result list\n",
    "res = [i for i in res if i != \"ph\"]\n",
    "\n",
    "# Convert the filtered list to a single string\n",
    "res = \"\".join(res)\n"
   ]
  },
  {
   "cell_type": "code",
   "execution_count": 67,
   "id": "3297b97d",
   "metadata": {},
   "outputs": [
    {
     "name": "stdout",
     "output_type": "stream",
     "text": [
      "the\n"
     ]
    }
   ],
   "source": [
    "print(res)"
   ]
  },
  {
   "cell_type": "markdown",
   "id": "96fbcca4",
   "metadata": {},
   "source": [
    "---"
   ]
  },
  {
   "cell_type": "code",
   "execution_count": null,
   "id": "8dcc5fae",
   "metadata": {},
   "outputs": [],
   "source": []
  }
 ],
 "metadata": {
  "kernelspec": {
   "display_name": "Python 3",
   "language": "python",
   "name": "python3"
  },
  "language_info": {
   "codemirror_mode": {
    "name": "ipython",
    "version": 3
   },
   "file_extension": ".py",
   "mimetype": "text/x-python",
   "name": "python",
   "nbconvert_exporter": "python",
   "pygments_lexer": "ipython3",
   "version": "3.8.8"
  }
 },
 "nbformat": 4,
 "nbformat_minor": 5
}
